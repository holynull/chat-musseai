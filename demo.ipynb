{
 "cells": [
  {
   "cell_type": "code",
   "execution_count": null,
   "id": "eecccad5",
   "metadata": {},
   "outputs": [],
   "source": [
    "url = \"http://192.168.3.6:8080\"\n",
    "graph_name = \"network\"\n",
    "user_id = \"65cf8f2ca2605827790739034ae9e58f7efb3968\""
   ]
  },
  {
   "cell_type": "code",
   "execution_count": null,
   "id": "4b8ea531",
   "metadata": {},
   "outputs": [],
   "source": [
    "from langgraph_sdk import get_client, get_sync_client\n",
    "\n",
    "client = get_client(url=url)\n",
    "sync_client = get_sync_client(url=url)"
   ]
  },
  {
   "cell_type": "markdown",
   "id": "4bb19b09",
   "metadata": {},
   "source": [
    "- 创建Thread （一个对话，表示用户的对话）"
   ]
  },
  {
   "cell_type": "code",
   "execution_count": null,
   "id": "ec8afbcf",
   "metadata": {},
   "outputs": [],
   "source": [
    "thread = sync_client.threads.create(metadata={\"user_id\": user_id})"
   ]
  },
  {
   "cell_type": "markdown",
   "id": "085a232c",
   "metadata": {},
   "source": [
    "- Cron job (Unsupport in Standlone Container)"
   ]
  },
  {
   "cell_type": "code",
   "execution_count": null,
   "id": "feb4890e",
   "metadata": {},
   "outputs": [],
   "source": [
    "cron_job = await client.crons.create_for_thread(\n",
    "    thread[\"thread_id\"],\n",
    "    graph_name,\n",
    "    schedule=\"*/5 * * * *\",\n",
    "    input={\"messages\": [{\"role\": \"user\", \"content\": \"What time is it?\"}]},\n",
    ")"
   ]
  },
  {
   "cell_type": "code",
   "execution_count": null,
   "id": "345f336c",
   "metadata": {},
   "outputs": [],
   "source": [
    "await client.crons.delete(cron_job[\"cron_id\"])"
   ]
  },
  {
   "cell_type": "markdown",
   "id": "4a1ac92a",
   "metadata": {},
   "source": [
    "- 发送消息"
   ]
  },
  {
   "cell_type": "code",
   "execution_count": null,
   "id": "34b7e5ba",
   "metadata": {},
   "outputs": [],
   "source": [
    "config = {\"configurable\": {\"thread_id\": thread[\"thread_id\"]}}\n",
    "\n",
    "input = {\n",
    "    \"messages\": {\n",
    "        \"type\": \"human\",\n",
    "        \"content\": \"把这个地址上的bnb和usdt加入到我的仓位中。0x25Dd4FD54a3c0C70cD780000D9a0eE90d93B8E85\",\n",
    "    },\n",
    "    \"wallet_is_connected\": True,\n",
    "    \"chain_id\": 56,\n",
    "    \"wallet_address\": \"0x25Dd4FD54a3c0C70cD780000D9a0eE90d93B8E85\",\n",
    "    \"time_zone\": \"Asia/Shanghai\",\n",
    "    \"user_id\": user_id,\n",
    "}\n",
    "chunks = client.runs.stream(\n",
    "    thread_id=thread[\"thread_id\"], assistant_id=graph_name, input=input\n",
    ")"
   ]
  },
  {
   "cell_type": "markdown",
   "id": "76df09a2",
   "metadata": {},
   "source": [
    "- 打印所有chunk，包含所有处理过程事件（数据，例如，工具返回值）"
   ]
  },
  {
   "cell_type": "code",
   "execution_count": null,
   "id": "fb36d0f9",
   "metadata": {},
   "outputs": [],
   "source": [
    "async for chunk in chunks:\n",
    "    print(f\"Event:{chunk.event}\")\n",
    "    print(chunk.data)\n",
    "    print(\"=\" * 100)"
   ]
  },
  {
   "cell_type": "markdown",
   "id": "63e07b97",
   "metadata": {},
   "source": [
    "- 查询用户所有的对话"
   ]
  },
  {
   "cell_type": "code",
   "execution_count": null,
   "id": "36699846",
   "metadata": {},
   "outputs": [],
   "source": [
    "threads = await client.threads.search(metadata={\"user_id\": user_id}, limit=100)\n",
    "for thread in threads:\n",
    "    print(thread.values())"
   ]
  }
 ],
 "metadata": {
  "kernelspec": {
   "display_name": ".venv",
   "language": "python",
   "name": "python3"
  },
  "language_info": {
   "codemirror_mode": {
    "name": "ipython",
    "version": 3
   },
   "file_extension": ".py",
   "mimetype": "text/x-python",
   "name": "python",
   "nbconvert_exporter": "python",
   "pygments_lexer": "ipython3",
   "version": "3.11.11"
  }
 },
 "nbformat": 4,
 "nbformat_minor": 5
}
