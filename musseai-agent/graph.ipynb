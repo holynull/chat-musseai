{
 "cells": [
  {
   "cell_type": "code",
   "execution_count": null,
   "metadata": {},
   "outputs": [],
   "source": [
    "from langgraph.prebuilt import create_react_agent\n",
    "from dotenv import load_dotenv\n",
    "\n",
    "load_dotenv(\".env\")\n",
    "import nest_asyncio\n",
    "\n",
    "nest_asyncio.apply()"
   ]
  },
  {
   "cell_type": "code",
   "execution_count": null,
   "metadata": {},
   "outputs": [],
   "source": [
    "import logging\n",
    "from graphs.graph_swap import graph\n",
    "from IPython.display import Image, display\n",
    "from langchain_core.runnables.graph import MermaidDrawMethod\n",
    "\n",
    "try:\n",
    "    display(\n",
    "        Image(\n",
    "            graph.get_graph().draw_mermaid_png(draw_method=MermaidDrawMethod.PYPPETEER)\n",
    "        )\n",
    "    )\n",
    "except Exception as e:\n",
    "    # This requires some extra dependencies and is optional\n",
    "    logging.error(e)\n",
    "    # pass"
   ]
  },
  {
   "cell_type": "code",
   "execution_count": null,
   "metadata": {},
   "outputs": [],
   "source": [
    "from graphs.graph_wallet import graph\n",
    "from IPython.display import Image, display\n",
    "\n",
    "try:\n",
    "    display(\n",
    "        Image(\n",
    "            graph.get_graph().draw_mermaid_png(draw_method=MermaidDrawMethod.PYPPETEER)\n",
    "        )\n",
    "    )\n",
    "except Exception:\n",
    "    # This requires some extra dependencies and is optional\n",
    "    pass"
   ]
  },
  {
   "cell_type": "code",
   "execution_count": null,
   "metadata": {},
   "outputs": [],
   "source": [
    "from graphs.graph_search import graph\n",
    "from IPython.display import Image, display\n",
    "\n",
    "try:\n",
    "    display(\n",
    "        Image(\n",
    "            graph.get_graph().draw_mermaid_png(draw_method=MermaidDrawMethod.PYPPETEER)\n",
    "        )\n",
    "    )\n",
    "except Exception:\n",
    "    # This requires some extra dependencies and is optional\n",
    "    pass"
   ]
  },
  {
   "cell_type": "code",
   "execution_count": null,
   "metadata": {},
   "outputs": [],
   "source": [
    "from graphs.graph_quote import graph\n",
    "from IPython.display import Image, display\n",
    "\n",
    "try:\n",
    "    display(\n",
    "        Image(\n",
    "            graph.get_graph().draw_mermaid_png(draw_method=MermaidDrawMethod.PYPPETEER)\n",
    "        )\n",
    "    )\n",
    "except Exception:\n",
    "    # This requires some extra dependencies and is optional\n",
    "    pass"
   ]
  },
  {
   "cell_type": "code",
   "execution_count": null,
   "metadata": {},
   "outputs": [],
   "source": [
    "from graphs.graph_image import graph\n",
    "from IPython.display import Image, display\n",
    "\n",
    "try:\n",
    "    display(\n",
    "        Image(\n",
    "            graph.get_graph().draw_mermaid_png(draw_method=MermaidDrawMethod.PYPPETEER)\n",
    "        )\n",
    "    )\n",
    "except Exception:\n",
    "    # This requires some extra dependencies and is optional\n",
    "    pass"
   ]
  },
  {
   "cell_type": "code",
   "execution_count": null,
   "metadata": {},
   "outputs": [],
   "source": [
    "from graphs.graph_infura import graph\n",
    "from IPython.display import Image, display\n",
    "\n",
    "try:\n",
    "    display(\n",
    "        Image(\n",
    "            graph.get_graph().draw_mermaid_png(draw_method=MermaidDrawMethod.PYPPETEER)\n",
    "        )\n",
    "    )\n",
    "except Exception:\n",
    "    # This requires some extra dependencies and is optional\n",
    "    pass"
   ]
  },
  {
   "cell_type": "code",
   "execution_count": null,
   "metadata": {},
   "outputs": [],
   "source": [
    "from langchain_core.utils.function_calling import convert_to_openai_tool\n",
    "import json\n",
    "from tools.tools_infura import tools\n",
    "\n",
    "jsonstr = [convert_to_openai_tool(tool) for tool in tools]\n",
    "\n",
    "print(json.dumps(jsonstr,indent=4))"
   ]
  },
  {
   "cell_type": "code",
   "execution_count": null,
   "metadata": {},
   "outputs": [],
   "source": [
    "from graphs.graph_chatbot import graph\n",
    "from IPython.display import Image, display\n",
    "\n",
    "try:\n",
    "    display(\n",
    "        Image(\n",
    "            graph.get_graph().draw_mermaid_png(draw_method=MermaidDrawMethod.PYPPETEER)\n",
    "        )\n",
    "    )\n",
    "except Exception:\n",
    "    # This requires some extra dependencies and is optional\n",
    "    pass"
   ]
  },
  {
   "cell_type": "code",
   "execution_count": null,
   "metadata": {},
   "outputs": [],
   "source": [
    "chunks = graph.astream_events(\n",
    "    {\n",
    "        \"messages\": {\"type\": \"human\", \"content\": \"帮我查一下bsc最近的一个区块\"},\n",
    "        \"wallet_is_connected\": False,\n",
    "        \"chain_id\": -1,\n",
    "        \"wallet_address\": None,\n",
    "        \"time_zone\": \"Asia/Shanghai\",\n",
    "        \"llm\": \"anthropic_claude_3_5_sonnet\",\n",
    "    },\n",
    "    version=\"v1\",\n",
    "    stream_mode=\"messages\",\n",
    ")\n",
    "from typing import List\n",
    "from langchain_core.messages import AIMessage\n",
    "\n",
    "async for chunk in chunks:\n",
    "    print(chunk)\n",
    "    if chunk[\"event\"] == \"on_chain_stream\":\n",
    "        # print(chunk)\n",
    "        if \"data\" in chunk:\n",
    "            # print(chunk[\"data\"])\n",
    "            data = chunk[\"data\"]\n",
    "            # print(data[\"chunk\"])\n",
    "            # if \"messages\" in data[\"chunk\"]:\n",
    "            #     messages = data[\"chunk\"][\"messages\"]\n",
    "            #     # print(f\"messages are {messages}\")\n",
    "            #     if isinstance(messages, List) and isinstance(messages[0], AIMessage):\n",
    "            #         print(f\"{messages[0].content[0]['text']}\")"
   ]
  }
 ],
 "metadata": {
  "kernelspec": {
   "display_name": ".venv",
   "language": "python",
   "name": "python3"
  },
  "language_info": {
   "codemirror_mode": {
    "name": "ipython",
    "version": 3
   },
   "file_extension": ".py",
   "mimetype": "text/x-python",
   "name": "python",
   "nbconvert_exporter": "python",
   "pygments_lexer": "ipython3",
   "version": "3.11.11"
  }
 },
 "nbformat": 4,
 "nbformat_minor": 2
}
