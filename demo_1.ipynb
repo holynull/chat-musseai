{
 "cells": [
  {
   "cell_type": "code",
   "execution_count": 15,
   "id": "eecccad5",
   "metadata": {},
   "outputs": [],
   "source": [
    "url = \"http://localhost:8080\"\n",
    "graph_name = \"swap_v2\"\n",
    "user_id = \"65cf8f2ca2605827790739034ae9e58f7efb3968\""
   ]
  },
  {
   "cell_type": "code",
   "execution_count": 16,
   "id": "4b8ea531",
   "metadata": {},
   "outputs": [],
   "source": [
    "from langgraph_sdk import get_client, get_sync_client\n",
    "\n",
    "client = get_client(url=url)\n",
    "sync_client = get_sync_client(url=url)"
   ]
  },
  {
   "cell_type": "markdown",
   "id": "4bb19b09",
   "metadata": {},
   "source": [
    "- 创建Thread （一个对话，表示用户的对话）"
   ]
  },
  {
   "cell_type": "code",
   "execution_count": 17,
   "id": "ec8afbcf",
   "metadata": {},
   "outputs": [],
   "source": [
    "thread = sync_client.threads.create(metadata={\"user_id\": user_id})"
   ]
  },
  {
   "cell_type": "markdown",
   "id": "4a1ac92a",
   "metadata": {},
   "source": [
    "- 发送消息"
   ]
  },
  {
   "cell_type": "code",
   "execution_count": 18,
   "id": "34b7e5ba",
   "metadata": {},
   "outputs": [],
   "source": [
    "config = {\"configurable\": {\"thread_id\": thread[\"thread_id\"]}}\n",
    "\n",
    "input = {\n",
    "    \"messages\": {\n",
    "        \"type\": \"human\",\n",
    "        \"content\": \"把这个地址上的bnb和usdt加入到我的仓位中。0x25Dd4FD54a3c0C70cD780000D9a0eE90d93B8E85\",\n",
    "    },\n",
    "}\n",
    "chunks = client.runs.stream(\n",
    "    thread_id=thread[\"thread_id\"], assistant_id=graph_name, input=input,stream_mode=\"events\"\n",
    ")"
   ]
  },
  {
   "cell_type": "markdown",
   "id": "76df09a2",
   "metadata": {},
   "source": [
    "- 打印所有chunk，包含所有处理过程事件（数据，例如，工具返回值）"
   ]
  },
  {
   "cell_type": "code",
   "execution_count": 19,
   "id": "fb36d0f9",
   "metadata": {},
   "outputs": [
    {
     "name": "stdout",
     "output_type": "stream",
     "text": [
      "Event:metadata\n",
      "{'run_id': '0199d248-2978-751a-9f7e-03d24084aaab', 'attempt': 1}\n",
      "====================================================================================================\n",
      "Event:events\n",
      "{'event': 'on_chain_start', 'data': {'input': {'messages': {'type': 'human', 'content': '把这个地址上的bnb和usdt加入到我的仓位中。0x25Dd4FD54a3c0C70cD780000D9a0eE90d93B8E85'}}}, 'name': 'graph_swap_v2', 'tags': [], 'run_id': '0199d248-2978-751a-9f7e-03d24084aaab', 'metadata': {'user_id': '65cf8f2ca2605827790739034ae9e58f7efb3968', 'created_by': 'system', 'assistant_id': 'fdb35e4c-7167-517a-8809-eb455a3297ab', 'run_attempt': 1, 'langgraph_version': '0.4.10', 'langgraph_api_version': '0.4.39', 'langgraph_plan': 'developer', 'langgraph_host': 'self-hosted', 'langgraph_api_url': None, 'run_id': '0199d248-2978-751a-9f7e-03d24084aaab', 'graph_id': 'swap_v2', 'thread_id': 'c27b0244-03e9-48b9-bffc-f50093e43cc4', 'langgraph_request_id': '0309c494-ed59-4d80-8e2f-adbd1142d062', 'langgraph_auth_user_id': ''}, 'parent_ids': []}\n",
      "====================================================================================================\n",
      "Event:events\n",
      "{'event': 'on_chain_start', 'data': {'input': {'messages': [{'content': '把这个地址上的bnb和usdt加入到我的仓位中。0x25Dd4FD54a3c0C70cD780000D9a0eE90d93B8E85', 'additional_kwargs': {}, 'response_metadata': {}, 'type': 'human', 'name': None, 'id': '4cb3ea57-82a5-4fb4-b639-769c6fb2fd14', 'example': False}]}}, 'name': 'node_check_transfer', 'tags': ['graph:step:1'], 'run_id': '4c274b96-296b-4fcd-83ac-8446f605e76c', 'metadata': {'user_id': '65cf8f2ca2605827790739034ae9e58f7efb3968', 'created_by': 'system', 'assistant_id': 'fdb35e4c-7167-517a-8809-eb455a3297ab', 'run_attempt': 1, 'langgraph_version': '0.4.10', 'langgraph_api_version': '0.4.39', 'langgraph_plan': 'developer', 'langgraph_host': 'self-hosted', 'langgraph_api_url': None, 'run_id': '0199d248-2978-751a-9f7e-03d24084aaab', 'graph_id': 'swap_v2', 'thread_id': 'c27b0244-03e9-48b9-bffc-f50093e43cc4', 'langgraph_request_id': '0309c494-ed59-4d80-8e2f-adbd1142d062', 'langgraph_auth_user_id': '', 'langgraph_step': 1, 'langgraph_node': 'node_check_transfer', 'langgraph_triggers': ['branch:to:node_check_transfer'], 'langgraph_path': ['__pregel_pull', 'node_check_transfer'], 'langgraph_checkpoint_ns': 'node_check_transfer:5c00e27b-ba21-e40b-80f1-2cfb20a36f63', 'LANGSMITH_LANGGRAPH_API_VARIANT': 'local', 'LANGCHAIN_TRACING_V2_1': 'true', 'LANGSMITH_LANGGRAPH_API_REVISION': 'd696aad', 'LANGSMITH_ENDPOINT': 'https://api.smith.langchain.com', 'LANGSMITH_PROJECT': 'pr-diligent-reprocessing-68'}, 'parent_ids': ['0199d248-2978-751a-9f7e-03d24084aaab']}\n",
      "====================================================================================================\n",
      "Event:values\n",
      "{'__interrupt__': [{'value': {'code': 'waiting_transfer_tx_hash'}, 'resumable': True, 'ns': ['node_check_transfer:5c00e27b-ba21-e40b-80f1-2cfb20a36f63'], 'when': 'during'}]}\n",
      "====================================================================================================\n",
      "Event:events\n",
      "{'event': 'on_chain_end', 'data': {'output': {'messages': [{'content': '把这个地址上的bnb和usdt加入到我的仓位中。0x25Dd4FD54a3c0C70cD780000D9a0eE90d93B8E85', 'additional_kwargs': {}, 'response_metadata': {}, 'type': 'human', 'name': None, 'id': '4cb3ea57-82a5-4fb4-b639-769c6fb2fd14', 'example': False}]}}, 'run_id': '0199d248-2978-751a-9f7e-03d24084aaab', 'name': 'graph_swap_v2', 'tags': [], 'metadata': {'user_id': '65cf8f2ca2605827790739034ae9e58f7efb3968', 'created_by': 'system', 'assistant_id': 'fdb35e4c-7167-517a-8809-eb455a3297ab', 'run_attempt': 1, 'langgraph_version': '0.4.10', 'langgraph_api_version': '0.4.39', 'langgraph_plan': 'developer', 'langgraph_host': 'self-hosted', 'langgraph_api_url': None, 'run_id': '0199d248-2978-751a-9f7e-03d24084aaab', 'graph_id': 'swap_v2', 'thread_id': 'c27b0244-03e9-48b9-bffc-f50093e43cc4', 'langgraph_request_id': '0309c494-ed59-4d80-8e2f-adbd1142d062', 'langgraph_auth_user_id': '', 'LANGSMITH_LANGGRAPH_API_VARIANT': 'local', 'LANGCHAIN_TRACING_V2_1': 'true', 'LANGSMITH_LANGGRAPH_API_REVISION': 'd696aad', 'LANGSMITH_ENDPOINT': 'https://api.smith.langchain.com', 'LANGSMITH_PROJECT': 'pr-diligent-reprocessing-68'}, 'parent_ids': []}\n",
      "====================================================================================================\n"
     ]
    }
   ],
   "source": [
    "async for chunk in chunks:\n",
    "    print(f\"Event:{chunk.event}\")\n",
    "    print(chunk.data)\n",
    "    print(\"=\" * 100)"
   ]
  },
  {
   "cell_type": "code",
   "execution_count": 20,
   "id": "fed7d432",
   "metadata": {},
   "outputs": [
    {
     "name": "stdout",
     "output_type": "stream",
     "text": [
      "Event:metadata\n",
      "{'run_id': '0199d248-57fe-738b-8661-0f5af0f93926', 'attempt': 1}\n",
      "====================================================================================================\n",
      "Event:events\n",
      "{'event': 'on_chain_start', 'data': {'input': {'graph': None, 'update': None, 'resume': 'yes', 'goto': None}}, 'name': 'graph_swap_v2', 'tags': [], 'run_id': '0199d248-57fe-738b-8661-0f5af0f93926', 'metadata': {'user_id': '65cf8f2ca2605827790739034ae9e58f7efb3968', 'graph_id': 'swap_v2', 'created_by': 'system', 'assistant_id': 'fdb35e4c-7167-517a-8809-eb455a3297ab', 'run_attempt': 1, 'langgraph_version': '0.4.10', 'langgraph_api_version': '0.4.39', 'langgraph_plan': 'developer', 'langgraph_host': 'self-hosted', 'langgraph_api_url': None, 'run_id': '0199d248-57fe-738b-8661-0f5af0f93926', 'thread_id': 'c27b0244-03e9-48b9-bffc-f50093e43cc4', 'langgraph_request_id': '5d89fa74-c036-4351-90ec-17f3358973fa', 'langgraph_auth_user_id': ''}, 'parent_ids': []}\n",
      "====================================================================================================\n",
      "Event:events\n",
      "{'event': 'on_chain_start', 'data': {'input': {'messages': [{'content': '把这个地址上的bnb和usdt加入到我的仓位中。0x25Dd4FD54a3c0C70cD780000D9a0eE90d93B8E85', 'additional_kwargs': {}, 'response_metadata': {}, 'type': 'human', 'name': None, 'id': '4cb3ea57-82a5-4fb4-b639-769c6fb2fd14', 'example': False}], 'human_answer': ['yes']}}, 'name': 'node_check_transfer', 'tags': ['graph:step:1'], 'run_id': '4ab9106b-e31a-48b1-90b8-30711cae40bb', 'metadata': {'user_id': '65cf8f2ca2605827790739034ae9e58f7efb3968', 'graph_id': 'swap_v2', 'created_by': 'system', 'assistant_id': 'fdb35e4c-7167-517a-8809-eb455a3297ab', 'run_attempt': 1, 'langgraph_version': '0.4.10', 'langgraph_api_version': '0.4.39', 'langgraph_plan': 'developer', 'langgraph_host': 'self-hosted', 'langgraph_api_url': None, 'run_id': '0199d248-57fe-738b-8661-0f5af0f93926', 'thread_id': 'c27b0244-03e9-48b9-bffc-f50093e43cc4', 'langgraph_request_id': '5d89fa74-c036-4351-90ec-17f3358973fa', 'langgraph_auth_user_id': '', 'langgraph_step': 1, 'langgraph_node': 'node_check_transfer', 'langgraph_triggers': ['branch:to:node_check_transfer'], 'langgraph_path': ['__pregel_pull', 'node_check_transfer'], 'langgraph_checkpoint_ns': 'node_check_transfer:5c00e27b-ba21-e40b-80f1-2cfb20a36f63', 'LANGSMITH_LANGGRAPH_API_VARIANT': 'local', 'LANGCHAIN_TRACING_V2_1': 'true', 'LANGSMITH_LANGGRAPH_API_REVISION': 'd696aad', 'LANGSMITH_ENDPOINT': 'https://api.smith.langchain.com', 'LANGSMITH_PROJECT': 'pr-diligent-reprocessing-68'}, 'parent_ids': ['0199d248-57fe-738b-8661-0f5af0f93926']}\n",
      "====================================================================================================\n",
      "Event:values\n",
      "{'__interrupt__': [{'value': {'code': 'waiting_configurations'}, 'resumable': True, 'ns': ['node_check_transfer:5c00e27b-ba21-e40b-80f1-2cfb20a36f63'], 'when': 'during'}]}\n",
      "====================================================================================================\n",
      "Event:events\n",
      "{'event': 'on_chain_end', 'data': {'output': {'messages': [{'content': '把这个地址上的bnb和usdt加入到我的仓位中。0x25Dd4FD54a3c0C70cD780000D9a0eE90d93B8E85', 'additional_kwargs': {}, 'response_metadata': {}, 'type': 'human', 'name': None, 'id': '4cb3ea57-82a5-4fb4-b639-769c6fb2fd14', 'example': False}]}}, 'run_id': '0199d248-57fe-738b-8661-0f5af0f93926', 'name': 'graph_swap_v2', 'tags': [], 'metadata': {'user_id': '65cf8f2ca2605827790739034ae9e58f7efb3968', 'graph_id': 'swap_v2', 'created_by': 'system', 'assistant_id': 'fdb35e4c-7167-517a-8809-eb455a3297ab', 'run_attempt': 1, 'langgraph_version': '0.4.10', 'langgraph_api_version': '0.4.39', 'langgraph_plan': 'developer', 'langgraph_host': 'self-hosted', 'langgraph_api_url': None, 'run_id': '0199d248-57fe-738b-8661-0f5af0f93926', 'thread_id': 'c27b0244-03e9-48b9-bffc-f50093e43cc4', 'langgraph_request_id': '5d89fa74-c036-4351-90ec-17f3358973fa', 'langgraph_auth_user_id': '', 'LANGSMITH_LANGGRAPH_API_VARIANT': 'local', 'LANGCHAIN_TRACING_V2_1': 'true', 'LANGSMITH_LANGGRAPH_API_REVISION': 'd696aad', 'LANGSMITH_ENDPOINT': 'https://api.smith.langchain.com', 'LANGSMITH_PROJECT': 'pr-diligent-reprocessing-68'}, 'parent_ids': []}\n",
      "====================================================================================================\n"
     ]
    }
   ],
   "source": [
    "from langgraph_sdk.schema import Command \n",
    "\n",
    "chunks = client.runs.stream(\n",
    "\tcommand=Command(resume=\"yes\"),\n",
    "    thread_id=thread[\"thread_id\"], assistant_id=graph_name,stream_mode=\"events\"\n",
    ")\n",
    "\n",
    "async for chunk in chunks:\n",
    "    print(f\"Event:{chunk.event}\")\n",
    "    print(chunk.data)\n",
    "    print(\"=\" * 100)"
   ]
  },
  {
   "cell_type": "code",
   "execution_count": 21,
   "id": "b6ec2dd4",
   "metadata": {},
   "outputs": [
    {
     "name": "stdout",
     "output_type": "stream",
     "text": [
      "Event:metadata\n",
      "{'run_id': '0199d248-77bb-71c9-af15-41b1d8bc4d7f', 'attempt': 1}\n",
      "====================================================================================================\n",
      "Event:events\n",
      "{'event': 'on_chain_start', 'data': {'input': {'graph': None, 'update': None, 'resume': '7', 'goto': None}}, 'name': 'graph_swap_v2', 'tags': [], 'run_id': '0199d248-77bb-71c9-af15-41b1d8bc4d7f', 'metadata': {'user_id': '65cf8f2ca2605827790739034ae9e58f7efb3968', 'graph_id': 'swap_v2', 'created_by': 'system', 'assistant_id': 'fdb35e4c-7167-517a-8809-eb455a3297ab', 'run_attempt': 1, 'langgraph_version': '0.4.10', 'langgraph_api_version': '0.4.39', 'langgraph_plan': 'developer', 'langgraph_host': 'self-hosted', 'langgraph_api_url': None, 'run_id': '0199d248-77bb-71c9-af15-41b1d8bc4d7f', 'thread_id': 'c27b0244-03e9-48b9-bffc-f50093e43cc4', 'langgraph_request_id': 'aa71904c-6d38-44f0-9fad-dca8f769b00c', 'langgraph_auth_user_id': ''}, 'parent_ids': []}\n",
      "====================================================================================================\n",
      "Event:events\n",
      "{'event': 'on_chain_start', 'data': {'input': {'messages': [{'content': '把这个地址上的bnb和usdt加入到我的仓位中。0x25Dd4FD54a3c0C70cD780000D9a0eE90d93B8E85', 'additional_kwargs': {}, 'response_metadata': {}, 'type': 'human', 'name': None, 'id': '4cb3ea57-82a5-4fb4-b639-769c6fb2fd14', 'example': False}], 'human_answer': ['yes']}}, 'name': 'node_check_transfer', 'tags': ['graph:step:1'], 'run_id': '2bc7536f-69a6-4582-a38e-04106a1721f3', 'metadata': {'user_id': '65cf8f2ca2605827790739034ae9e58f7efb3968', 'graph_id': 'swap_v2', 'created_by': 'system', 'assistant_id': 'fdb35e4c-7167-517a-8809-eb455a3297ab', 'run_attempt': 1, 'langgraph_version': '0.4.10', 'langgraph_api_version': '0.4.39', 'langgraph_plan': 'developer', 'langgraph_host': 'self-hosted', 'langgraph_api_url': None, 'run_id': '0199d248-77bb-71c9-af15-41b1d8bc4d7f', 'thread_id': 'c27b0244-03e9-48b9-bffc-f50093e43cc4', 'langgraph_request_id': 'aa71904c-6d38-44f0-9fad-dca8f769b00c', 'langgraph_auth_user_id': '', 'langgraph_step': 1, 'langgraph_node': 'node_check_transfer', 'langgraph_triggers': ['branch:to:node_check_transfer'], 'langgraph_path': ['__pregel_pull', 'node_check_transfer'], 'langgraph_checkpoint_ns': 'node_check_transfer:5c00e27b-ba21-e40b-80f1-2cfb20a36f63', 'LANGSMITH_LANGGRAPH_API_VARIANT': 'local', 'LANGCHAIN_TRACING_V2_1': 'true', 'LANGSMITH_LANGGRAPH_API_REVISION': 'd696aad', 'LANGSMITH_ENDPOINT': 'https://api.smith.langchain.com', 'LANGSMITH_PROJECT': 'pr-diligent-reprocessing-68'}, 'parent_ids': ['0199d248-77bb-71c9-af15-41b1d8bc4d7f']}\n",
      "====================================================================================================\n",
      "Event:error\n",
      "{'error': 'TypeError', 'message': \"'>=' not supported between instances of 'str' and 'int'\"}\n",
      "====================================================================================================\n"
     ]
    }
   ],
   "source": [
    "chunks = client.runs.stream(\n",
    "\tcommand=Command(resume=\"7\"),\n",
    "    thread_id=thread[\"thread_id\"], assistant_id=graph_name,stream_mode=\"events\"\n",
    ")\n",
    "\n",
    "async for chunk in chunks:\n",
    "    print(f\"Event:{chunk.event}\")\n",
    "    print(chunk.data)\n",
    "    print(\"=\" * 100)"
   ]
  }
 ],
 "metadata": {
  "kernelspec": {
   "display_name": ".venv",
   "language": "python",
   "name": "python3"
  },
  "language_info": {
   "codemirror_mode": {
    "name": "ipython",
    "version": 3
   },
   "file_extension": ".py",
   "mimetype": "text/x-python",
   "name": "python",
   "nbconvert_exporter": "python",
   "pygments_lexer": "ipython3",
   "version": "3.11.11"
  }
 },
 "nbformat": 4,
 "nbformat_minor": 5
}
