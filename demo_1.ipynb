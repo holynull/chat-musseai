{
 "cells": [
  {
   "cell_type": "code",
   "execution_count": 1,
   "id": "eecccad5",
   "metadata": {},
   "outputs": [],
   "source": [
    "url = \"http://localhost:8080\"\n",
    "graph_name = \"swap_v2\"\n",
    "user_id = \"65cf8f2ca2605827790739034ae9e58f7efb3968\""
   ]
  },
  {
   "cell_type": "code",
   "execution_count": 2,
   "id": "4b8ea531",
   "metadata": {},
   "outputs": [],
   "source": [
    "from langgraph_sdk import get_client, get_sync_client\n",
    "\n",
    "client = get_client(url=url)\n",
    "sync_client = get_sync_client(url=url)"
   ]
  },
  {
   "cell_type": "markdown",
   "id": "4bb19b09",
   "metadata": {},
   "source": [
    "- 创建Thread （一个对话，表示用户的对话）"
   ]
  },
  {
   "cell_type": "code",
   "execution_count": 3,
   "id": "ec8afbcf",
   "metadata": {},
   "outputs": [],
   "source": [
    "thread = sync_client.threads.create(metadata={\"user_id\": user_id})"
   ]
  },
  {
   "cell_type": "markdown",
   "id": "4a1ac92a",
   "metadata": {},
   "source": [
    "- 发送消息"
   ]
  },
  {
   "cell_type": "code",
   "execution_count": 5,
   "id": "34b7e5ba",
   "metadata": {},
   "outputs": [],
   "source": [
    "config = {\"configurable\": {\"thread_id\": thread[\"thread_id\"]}}\n",
    "\n",
    "input = {\n",
    "    \"messages\": {\n",
    "        \"type\": \"human\",\n",
    "        \"content\": \"把这个地址上的bnb和usdt加入到我的仓位中。0x25Dd4FD54a3c0C70cD780000D9a0eE90d93B8E85\",\n",
    "    },\n",
    "}\n",
    "chunks = client.runs.stream(\n",
    "    thread_id=thread[\"thread_id\"], assistant_id=graph_name, input=input\n",
    ")"
   ]
  },
  {
   "cell_type": "markdown",
   "id": "76df09a2",
   "metadata": {},
   "source": [
    "- 打印所有chunk，包含所有处理过程事件（数据，例如，工具返回值）"
   ]
  },
  {
   "cell_type": "code",
   "execution_count": 6,
   "id": "fb36d0f9",
   "metadata": {},
   "outputs": [
    {
     "ename": "HTTPStatusError",
     "evalue": "Client error '401 Unauthorized' for url 'http://localhost:8080/threads/e68c8e1d-7351-4788-8974-59180d19a6fb/runs/stream'\nFor more information check: https://developer.mozilla.org/en-US/docs/Web/HTTP/Status/401",
     "output_type": "error",
     "traceback": [
      "\u001b[31m---------------------------------------------------------------------------\u001b[39m",
      "\u001b[31mHTTPStatusError\u001b[39m                           Traceback (most recent call last)",
      "\u001b[36mCell\u001b[39m\u001b[36m \u001b[39m\u001b[32mIn[6]\u001b[39m\u001b[32m, line 1\u001b[39m\n\u001b[32m----> \u001b[39m\u001b[32m1\u001b[39m \u001b[38;5;28;01masync\u001b[39;00m \u001b[38;5;28;01mfor\u001b[39;00m chunk \u001b[38;5;129;01min\u001b[39;00m chunks:\n\u001b[32m      2\u001b[39m     \u001b[38;5;28mprint\u001b[39m(\u001b[33mf\u001b[39m\u001b[33m\"\u001b[39m\u001b[33mEvent:\u001b[39m\u001b[38;5;132;01m{\u001b[39;00mchunk.event\u001b[38;5;132;01m}\u001b[39;00m\u001b[33m\"\u001b[39m)\n\u001b[32m      3\u001b[39m     \u001b[38;5;28mprint\u001b[39m(chunk.data)\n",
      "\u001b[36mFile \u001b[39m\u001b[32m~/github.com/holynull/chat-musseai/.venv/lib/python3.11/site-packages/langgraph_sdk/client.py:407\u001b[39m, in \u001b[36mHttpClient.stream\u001b[39m\u001b[34m(self, path, method, json, params, headers, on_response)\u001b[39m\n\u001b[32m    405\u001b[39m     \u001b[38;5;28;01melse\u001b[39;00m:\n\u001b[32m    406\u001b[39m         logger.error(\u001b[33mf\u001b[39m\u001b[33m\"\u001b[39m\u001b[33mError from langgraph-api: \u001b[39m\u001b[38;5;132;01m{\u001b[39;00mbody\u001b[38;5;132;01m}\u001b[39;00m\u001b[33m\"\u001b[39m, exc_info=e)\n\u001b[32m--> \u001b[39m\u001b[32m407\u001b[39m     \u001b[38;5;28;01mraise\u001b[39;00m e\n\u001b[32m    408\u001b[39m \u001b[38;5;66;03m# check content type\u001b[39;00m\n\u001b[32m    409\u001b[39m content_type = res.headers.get(\u001b[33m\"\u001b[39m\u001b[33mcontent-type\u001b[39m\u001b[33m\"\u001b[39m, \u001b[33m\"\u001b[39m\u001b[33m\"\u001b[39m).partition(\u001b[33m\"\u001b[39m\u001b[33m;\u001b[39m\u001b[33m\"\u001b[39m)[\u001b[32m0\u001b[39m]\n",
      "\u001b[36mFile \u001b[39m\u001b[32m~/github.com/holynull/chat-musseai/.venv/lib/python3.11/site-packages/langgraph_sdk/client.py:400\u001b[39m, in \u001b[36mHttpClient.stream\u001b[39m\u001b[34m(self, path, method, json, params, headers, on_response)\u001b[39m\n\u001b[32m    398\u001b[39m \u001b[38;5;66;03m# check status\u001b[39;00m\n\u001b[32m    399\u001b[39m \u001b[38;5;28;01mtry\u001b[39;00m:\n\u001b[32m--> \u001b[39m\u001b[32m400\u001b[39m     \u001b[43mres\u001b[49m\u001b[43m.\u001b[49m\u001b[43mraise_for_status\u001b[49m\u001b[43m(\u001b[49m\u001b[43m)\u001b[49m\n\u001b[32m    401\u001b[39m \u001b[38;5;28;01mexcept\u001b[39;00m httpx.HTTPStatusError \u001b[38;5;28;01mas\u001b[39;00m e:\n\u001b[32m    402\u001b[39m     body = (\u001b[38;5;28;01mawait\u001b[39;00m res.aread()).decode()\n",
      "\u001b[36mFile \u001b[39m\u001b[32m~/github.com/holynull/chat-musseai/.venv/lib/python3.11/site-packages/httpx/_models.py:829\u001b[39m, in \u001b[36mResponse.raise_for_status\u001b[39m\u001b[34m(self)\u001b[39m\n\u001b[32m    827\u001b[39m error_type = error_types.get(status_class, \u001b[33m\"\u001b[39m\u001b[33mInvalid status code\u001b[39m\u001b[33m\"\u001b[39m)\n\u001b[32m    828\u001b[39m message = message.format(\u001b[38;5;28mself\u001b[39m, error_type=error_type)\n\u001b[32m--> \u001b[39m\u001b[32m829\u001b[39m \u001b[38;5;28;01mraise\u001b[39;00m HTTPStatusError(message, request=request, response=\u001b[38;5;28mself\u001b[39m)\n",
      "\u001b[31mHTTPStatusError\u001b[39m: Client error '401 Unauthorized' for url 'http://localhost:8080/threads/e68c8e1d-7351-4788-8974-59180d19a6fb/runs/stream'\nFor more information check: https://developer.mozilla.org/en-US/docs/Web/HTTP/Status/401",
      "{\"detail\":\"Not authenticated\"}"
     ]
    }
   ],
   "source": [
    "async for chunk in chunks:\n",
    "    print(f\"Event:{chunk.event}\")\n",
    "    print(chunk.data)\n",
    "    print(\"=\" * 100)"
   ]
  },
  {
   "cell_type": "markdown",
   "id": "63e07b97",
   "metadata": {},
   "source": [
    "- 查询用户所有的对话"
   ]
  },
  {
   "cell_type": "code",
   "execution_count": null,
   "id": "36699846",
   "metadata": {},
   "outputs": [],
   "source": [
    "threads = await client.threads.search(metadata={\"user_id\": user_id}, limit=100)\n",
    "for thread in threads:\n",
    "    print(thread.values())"
   ]
  },
  {
   "cell_type": "code",
   "execution_count": null,
   "id": "c75287e5",
   "metadata": {},
   "outputs": [],
   "source": [
    "import os\n",
    "\n",
    "trading_signal_thread_user_id=os.getenv('TRADING_SIGNAL_THREAD_USER_ID')\n",
    "\n",
    "eth_thread = sync_client.threads.create(metadata={\"user_id\": user_id})\n",
    "btc_thread = sync_client.threads.create(metadata={\"user_id\": user_id})"
   ]
  }
 ],
 "metadata": {
  "kernelspec": {
   "display_name": ".venv",
   "language": "python",
   "name": "python3"
  },
  "language_info": {
   "codemirror_mode": {
    "name": "ipython",
    "version": 3
   },
   "file_extension": ".py",
   "mimetype": "text/x-python",
   "name": "python",
   "nbconvert_exporter": "python",
   "pygments_lexer": "ipython3",
   "version": "3.11.11"
  }
 },
 "nbformat": 4,
 "nbformat_minor": 5
}
